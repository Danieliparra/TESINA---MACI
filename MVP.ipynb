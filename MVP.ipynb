{
 "cells": [
  {
   "cell_type": "code",
   "execution_count": 1,
   "id": "e46a7672",
   "metadata": {},
   "outputs": [],
   "source": [
    "import pandas as pd\n",
    "import numpy as np\n",
    "import pickle\n",
    "from sklearn.preprocessing import StandardScaler\n",
    "from sklearn.impute import SimpleImputer\n",
    "from sklearn.pipeline import Pipeline\n",
    "from sklearn.base import TransformerMixin, BaseEstimator\n",
    "from datetime import datetime"
   ]
  },
  {
   "cell_type": "code",
   "execution_count": 2,
   "id": "5f863e0b",
   "metadata": {},
   "outputs": [],
   "source": [
    "X_test = pd.read_excel('proyectoFibra.xlsx', index_col=0,)"
   ]
  },
  {
   "cell_type": "code",
   "execution_count": 3,
   "id": "ef570ceb",
   "metadata": {},
   "outputs": [],
   "source": [
    "class RemoveOutliersTransformer(BaseEstimator, TransformerMixin):\n",
    "    def __init__(self):\n",
    "        pass\n",
    "\n",
    "    def fit(self, X, y=None):\n",
    "        return self\n",
    "\n",
    "    def transform(self, X):\n",
    "        def replace_outliers_with_nan(column):\n",
    "            column = column.copy() \n",
    "            Q1 = column.quantile(0.25)\n",
    "            Q3 = column.quantile(0.75)\n",
    "            IQR = Q3 - Q1\n",
    "            lower_bound = Q1 - 1.5 * IQR\n",
    "            upper_bound = Q3 + 1.5 * IQR\n",
    "            column.loc[(column < lower_bound) | (column > upper_bound)] = np.nan\n",
    "            return column\n",
    "\n",
    "        for column in X.columns:\n",
    "            X[column] = replace_outliers_with_nan(X[column])\n",
    "\n",
    "        X.interpolate(method='linear', inplace=True)\n",
    "        \n",
    "        return X"
   ]
  },
  {
   "cell_type": "code",
   "execution_count": 4,
   "id": "c83a1db5",
   "metadata": {},
   "outputs": [],
   "source": [
    "class ImputeNaNTransformer(BaseEstimator, TransformerMixin):\n",
    "    def __init__(self):\n",
    "        pass\n",
    "\n",
    "    def fit(self, X, y=None):\n",
    "        return self\n",
    "\n",
    "    def transform(self, X):\n",
    "        imputer = SimpleImputer(strategy='mean')\n",
    "        valores_nan = X.isnull().sum()\n",
    "        columnas_con_nan = valores_nan[valores_nan > 0].index\n",
    "        for columna in columnas_con_nan:\n",
    "            X.loc[:, columna] = imputer.fit_transform(X[[columna]])\n",
    "        \n",
    "        return X"
   ]
  },
  {
   "cell_type": "code",
   "execution_count": 5,
   "id": "091ac25c",
   "metadata": {},
   "outputs": [],
   "source": [
    "class DropColumnsTransformer(BaseEstimator, TransformerMixin):\n",
    "    def __init__(self):\n",
    "        pass\n",
    "\n",
    "    def fit(self, X, y=None):\n",
    "        return self\n",
    "\n",
    "    def transform(self, X):\n",
    "        df_train_columnas = ['220TV111A.OUT', '220PIT072.PNT', '220LIC154.MEAS', '2202301301II.PNT',\n",
    "       '22023009V3.PNT', '220FV089.OUT', '220FIC103.MEAS', '220SIT008B.PNT',\n",
    "       '220PIT061.PNT', '22023010V2.PNT', '220PRODUCAO.RO0011',\n",
    "       '220TIT105.PNT', '220VIT066.PNT', '220SIT008A.PNT', '220TIT851.PNT',\n",
    "       '220FIT852.PNT', '220TIT850.PNT', '220PIT167.PNT', '220PIC155.MEAS',\n",
    "       '220FIC065.MEAS', '220TIT092.PNT', '220FIC089.MEAS', '220FV108.OUT',\n",
    "       '220TV101A.OUT', '220TIT608.PNT', '220FT108.MEAS', '220FX108.PNT',\n",
    "       '220FV068.OUT', '220TIT090.PNT', '220FV203.OUT', '2202301001SI.PNT',\n",
    "       '2202300901SI.PNT', '2202300801SI.PNT', '270LIT451.PNT',\n",
    "       '270LIT452.PNT', '220FIT107.PNT', '220PIT109.PNT', '220FIC207.MEAS',\n",
    "       '220FIC208.MEAS', '230LIC030.MEAS', '220PIT110.PNT', '2202301401II.PNT',\n",
    "       '220TIC111.MEAS', '220PIT106.PNT', '220VIT104.PNT', '220PIT156.PNT',\n",
    "       '220PIT071.PNT', '220LIT154C.PNT', '220LIT154B.PNT', '2202301001II.PNT',\n",
    "       '2202300901II.PNT', '220PIT063.PNT', '220PIT064.PNT', '220PIT062.PNT',\n",
    "       '2202300801II.PNT', '220FIC203.MEAS', '2202100401II.PNT',\n",
    "       '220YIC008.MEAS', '220FIC463.MEAS', '220PC262A.MEAS', '220TIT007.PNT',\n",
    "       '220LICORBRANCO.RO0003', '220AIT473.PNT', '2202604801SI.PNT',\n",
    "       '220PIC019.MEAS', '220SI008_MEM.PNT', '220TV007.OUT', '220TIC529.MEAS',\n",
    "       '220PIC034.MEAS', '220TIC015.MEAS', '210WIT2094.PNT',\n",
    "       '220SI008_ACA1.OUT', '220TIC533.MEAS', '220PV034B.OUT', '220LV006.OUT',\n",
    "       '220TIC007.MEAS', '220PIT003.PNT', '220PIT005.PNT', '220TIT011.PNT',\n",
    "       '220PIT011.PNT', '220TIC014.MEAS', '2202537801iI.PNT', '220PV019B.OUT',\n",
    "       '2202604801II.PNT', '220LIT526.PNT', '2202100401SI.PNT',\n",
    "       '2202100101II.PNT', '220TIC002.MEAS', '220FIT009.PNT', '220FIT011.PNT',\n",
    "       '20MI661.PNT', '220MIT714.PNT']\n",
    "        columnas_descartadas = set(X.columns) - set(df_train_columnas)\n",
    "        X = X.drop(columns=columnas_descartadas)\n",
    "        \n",
    "        return X"
   ]
  },
  {
   "cell_type": "code",
   "execution_count": 6,
   "id": "be48ba78",
   "metadata": {},
   "outputs": [],
   "source": [
    "class SeasonPredictor(BaseEstimator, TransformerMixin):\n",
    "    def __init__(self):\n",
    "        pass\n",
    "\n",
    "    def fit(self, X, y=None):\n",
    "        return self\n",
    "\n",
    "    def transform(self, X):  \n",
    "        X = X.drop(columns=['220YIC008.MEAS', '220PRODUCAO.RO0011'])\n",
    "        \n",
    "        with open('modelo_entrenado.pkl', 'rb') as f:\n",
    "            mejor_rf = pickle.load(f)\n",
    "        y_pred = mejor_rf.predict(X)\n",
    "        X['Cluster'] = y_pred\n",
    "        \n",
    "        X['Month-Year'] = X.index.strftime('%Y-%m')\n",
    "        cluster_counts = X.groupby(['Month-Year', 'Cluster']).size().reset_index(name='Count')\n",
    "        all_combinations = pd.MultiIndex.from_product([X['Month-Year'].unique(), X['Cluster'].unique()], names=['Month-Year', 'Cluster'])\n",
    "        cluster_counts = cluster_counts.set_index(['Month-Year', 'Cluster']).reindex(all_combinations, fill_value=0).reset_index()\n",
    "        \n",
    "        \n",
    "        #fecha_actual = datetime.now().strftime(\"%Y-%m\")'\n",
    "        fecha_actual = '2024-02'\n",
    "        cluster_counts['Month-Year'] = cluster_counts['Month-Year'].astype(str)\n",
    "        cluster_counts_filtrado = cluster_counts[cluster_counts['Month-Year'] == fecha_actual]\n",
    "        indice_maximo = cluster_counts_filtrado['Count'].idxmax()\n",
    "        cluster_maximo = cluster_counts_filtrado.loc[indice_maximo, 'Cluster']\n",
    "        print(\"El cluster con mayor conteo para el {} es: {}\".format(fecha_actual, cluster_maximo))"
   ]
  },
  {
   "cell_type": "code",
   "execution_count": 7,
   "id": "cd56d0cd",
   "metadata": {},
   "outputs": [
    {
     "name": "stdout",
     "output_type": "stream",
     "text": [
      "El cluster con mayor conteo para el 2024-02 es: Verano\n"
     ]
    }
   ],
   "source": [
    "pipeline = Pipeline([\n",
    "    ('outliers_romover', RemoveOutliersTransformer()),\n",
    "    ('nan_imputer', ImputeNaNTransformer()),\n",
    "    ('drop_columns', DropColumnsTransformer()),\n",
    "    ('seaon_prediction', SeasonPredictor())\n",
    "])\n",
    "\n",
    "# Aplica el pipeline a tu dataset\n",
    "pipeline.fit_transform(X_test)"
   ]
  }
 ],
 "metadata": {
  "kernelspec": {
   "display_name": "Python 3 (ipykernel)",
   "language": "python",
   "name": "python3"
  },
  "language_info": {
   "codemirror_mode": {
    "name": "ipython",
    "version": 3
   },
   "file_extension": ".py",
   "mimetype": "text/x-python",
   "name": "python",
   "nbconvert_exporter": "python",
   "pygments_lexer": "ipython3",
   "version": "3.11.5"
  }
 },
 "nbformat": 4,
 "nbformat_minor": 5
}
